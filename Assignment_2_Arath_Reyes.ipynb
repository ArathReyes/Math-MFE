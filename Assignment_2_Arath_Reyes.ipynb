{
 "cells": [
  {
   "cell_type": "code",
   "execution_count": 1,
   "id": "a7677572-bbf7-4843-8b69-ae6176abf617",
   "metadata": {},
   "outputs": [],
   "source": [
    "import pandas as pd\n",
    "import numpy as np\n",
    "from scipy.linalg import eig"
   ]
  },
  {
   "cell_type": "code",
   "execution_count": 2,
   "id": "b746210f-20be-47e6-8455-d557542f1b8a",
   "metadata": {},
   "outputs": [],
   "source": [
    "data = [\n",
    "    ['AAA', '90.788%', '8.291%', '0.716%', '0.102%', '0.102%', '0', '0', '0'],\n",
    "    ['AA', '0.103%', '91.219%', '7.851%', '0.620%', '0.103%', '0.103%', '0', '0'],\n",
    "    ['A', '0.924%', '2.361%', '90.041%', '5.441%', '0.719%', '0.308%', '0.103%', '0.103%'],\n",
    "    ['BBB', '0', '0.318%', '5.938%', '86.947%', '5.302%', '1.1166%', '0.117%', '0.212%'],\n",
    "    ['BB', '0', '0.110%', '0.659%', '7.692%', '80.549%', '8.791%', '0.989%', '1.209%'],\n",
    "    ['B', '0', '0.114%', '0.227%', '0.454%', '6.470%', '82.747%', '4.086%', '5.902%'],\n",
    "    ['CCC', '0', '0', '0.456%', '1.251%', '2.275%', '12.856%', '60.637%', '22.526%'],\n",
    "    ['Default', '0', '0', '0', '0', '0', '0', '0', '100%']\n",
    "]\n",
    "\n",
    "phi = pd.DataFrame(data, columns=[\"Index\",'AAA', 'AA', 'A', 'BBB', 'BB', 'B', 'CCC', 'Default'])\n",
    "phi.set_index(\"Index\", inplace=True)\n",
    "\n",
    "# Remove '%' and convert to float\n",
    "phi = phi.replace(r'%', '', regex=True).astype(float)/100"
   ]
  },
  {
   "cell_type": "markdown",
   "id": "e9d2b18f-7b20-40d5-a30c-cb0b66cb87e7",
   "metadata": {},
   "source": [
    "### (a) Two Step Transition Matrix"
   ]
  },
  {
   "cell_type": "code",
   "execution_count": 4,
   "id": "6b7a68ca-06cd-4f8a-8c6b-b8b9b42f8995",
   "metadata": {},
   "outputs": [
    {
     "data": {
      "text/html": [
       "<div>\n",
       "<style scoped>\n",
       "    .dataframe tbody tr th:only-of-type {\n",
       "        vertical-align: middle;\n",
       "    }\n",
       "\n",
       "    .dataframe tbody tr th {\n",
       "        vertical-align: top;\n",
       "    }\n",
       "\n",
       "    .dataframe thead th {\n",
       "        text-align: right;\n",
       "    }\n",
       "</style>\n",
       "<table border=\"1\" class=\"dataframe\">\n",
       "  <thead>\n",
       "    <tr style=\"text-align: right;\">\n",
       "      <th></th>\n",
       "      <th>AAA</th>\n",
       "      <th>AA</th>\n",
       "      <th>A</th>\n",
       "      <th>BBB</th>\n",
       "      <th>BB</th>\n",
       "      <th>B</th>\n",
       "      <th>CCC</th>\n",
       "      <th>Default</th>\n",
       "    </tr>\n",
       "    <tr>\n",
       "      <th>Index</th>\n",
       "      <th></th>\n",
       "      <th></th>\n",
       "      <th></th>\n",
       "      <th></th>\n",
       "      <th></th>\n",
       "      <th></th>\n",
       "      <th></th>\n",
       "      <th></th>\n",
       "    </tr>\n",
       "  </thead>\n",
       "  <tbody>\n",
       "    <tr>\n",
       "      <th>AAA</th>\n",
       "      <td>82.439765</td>\n",
       "      <td>15.107542</td>\n",
       "      <td>1.952391</td>\n",
       "      <td>0.279497</td>\n",
       "      <td>0.193860</td>\n",
       "      <td>0.020851</td>\n",
       "      <td>0.001866</td>\n",
       "      <td>0.002187</td>\n",
       "    </tr>\n",
       "    <tr>\n",
       "      <th>AA</th>\n",
       "      <td>0.260010</td>\n",
       "      <td>83.405164</td>\n",
       "      <td>14.269188</td>\n",
       "      <td>1.540298</td>\n",
       "      <td>0.273011</td>\n",
       "      <td>0.219344</td>\n",
       "      <td>0.014039</td>\n",
       "      <td>0.016725</td>\n",
       "    </tr>\n",
       "    <tr>\n",
       "      <th>A</th>\n",
       "      <td>1.673292</td>\n",
       "      <td>4.374602</td>\n",
       "      <td>81.594788</td>\n",
       "      <td>9.703490</td>\n",
       "      <td>1.540669</td>\n",
       "      <td>0.671822</td>\n",
       "      <td>0.181260</td>\n",
       "      <td>0.257350</td>\n",
       "    </tr>\n",
       "    <tr>\n",
       "      <th>BBB</th>\n",
       "      <td>0.055195</td>\n",
       "      <td>0.713869</td>\n",
       "      <td>10.572522</td>\n",
       "      <td>76.337229</td>\n",
       "      <td>8.998565</td>\n",
       "      <td>2.394560</td>\n",
       "      <td>0.276850</td>\n",
       "      <td>0.558802</td>\n",
       "    </tr>\n",
       "    <tr>\n",
       "      <th>BB</th>\n",
       "      <td>0.006202</td>\n",
       "      <td>0.238986</td>\n",
       "      <td>1.614041</td>\n",
       "      <td>12.972614</td>\n",
       "      <td>65.885373</td>\n",
       "      <td>14.570529</td>\n",
       "      <td>1.765208</td>\n",
       "      <td>2.941450</td>\n",
       "    </tr>\n",
       "    <tr>\n",
       "      <th>B</th>\n",
       "      <td>0.002215</td>\n",
       "      <td>0.212241</td>\n",
       "      <td>0.489407</td>\n",
       "      <td>1.332257</td>\n",
       "      <td>10.684028</td>\n",
       "      <td>69.570620</td>\n",
       "      <td>5.923424</td>\n",
       "      <td>11.785559</td>\n",
       "    </tr>\n",
       "    <tr>\n",
       "      <th>CCC</th>\n",
       "      <td>0.004213</td>\n",
       "      <td>0.031903</td>\n",
       "      <td>0.805551</td>\n",
       "      <td>2.104446</td>\n",
       "      <td>4.113371</td>\n",
       "      <td>18.648815</td>\n",
       "      <td>37.318187</td>\n",
       "      <td>36.974478</td>\n",
       "    </tr>\n",
       "    <tr>\n",
       "      <th>Default</th>\n",
       "      <td>0.000000</td>\n",
       "      <td>0.000000</td>\n",
       "      <td>0.000000</td>\n",
       "      <td>0.000000</td>\n",
       "      <td>0.000000</td>\n",
       "      <td>0.000000</td>\n",
       "      <td>0.000000</td>\n",
       "      <td>100.000000</td>\n",
       "    </tr>\n",
       "  </tbody>\n",
       "</table>\n",
       "</div>"
      ],
      "text/plain": [
       "               AAA         AA          A        BBB         BB          B  \\\n",
       "Index                                                                       \n",
       "AAA      82.439765  15.107542   1.952391   0.279497   0.193860   0.020851   \n",
       "AA        0.260010  83.405164  14.269188   1.540298   0.273011   0.219344   \n",
       "A         1.673292   4.374602  81.594788   9.703490   1.540669   0.671822   \n",
       "BBB       0.055195   0.713869  10.572522  76.337229   8.998565   2.394560   \n",
       "BB        0.006202   0.238986   1.614041  12.972614  65.885373  14.570529   \n",
       "B         0.002215   0.212241   0.489407   1.332257  10.684028  69.570620   \n",
       "CCC       0.004213   0.031903   0.805551   2.104446   4.113371  18.648815   \n",
       "Default   0.000000   0.000000   0.000000   0.000000   0.000000   0.000000   \n",
       "\n",
       "               CCC     Default  \n",
       "Index                           \n",
       "AAA       0.001866    0.002187  \n",
       "AA        0.014039    0.016725  \n",
       "A         0.181260    0.257350  \n",
       "BBB       0.276850    0.558802  \n",
       "BB        1.765208    2.941450  \n",
       "B         5.923424   11.785559  \n",
       "CCC      37.318187   36.974478  \n",
       "Default   0.000000  100.000000  "
      ]
     },
     "execution_count": 4,
     "metadata": {},
     "output_type": "execute_result"
    }
   ],
   "source": [
    "two_step = (phi.dot(phi)*100)\n",
    "two_step"
   ]
  },
  {
   "cell_type": "code",
   "execution_count": 5,
   "id": "ce5f704f-0256-49d8-afdd-6f0209548079",
   "metadata": {},
   "outputs": [
    {
     "name": "stdout",
     "output_type": "stream",
     "text": [
      "The probability that a AAA bond gets rated as default within two years is: 0.0021869%\n"
     ]
    }
   ],
   "source": [
    "print(f'The probability that a AAA bond gets rated as default within two years is: {two_step.T['AAA']['Default']}%')"
   ]
  },
  {
   "cell_type": "markdown",
   "id": "992e70e7-dee3-49d1-9eed-e2300b7bc244",
   "metadata": {},
   "source": [
    "### (b) Left Eigenvectors and Eigenvalues"
   ]
  },
  {
   "cell_type": "code",
   "execution_count": 7,
   "id": "d2e8e2ce-fd49-44df-92b1-4e5d98230e26",
   "metadata": {},
   "outputs": [],
   "source": [
    "# Compute left eigenvectors and eigenvalues by transposing the matrix\n",
    "eigenvalues_left, eigenvectors_left = np.linalg.eig(phi.T.to_numpy())"
   ]
  },
  {
   "cell_type": "code",
   "execution_count": 8,
   "id": "6638771e-91b0-4a92-ab49-158900206342",
   "metadata": {},
   "outputs": [
    {
     "data": {
      "text/plain": [
       "array([1.        +0.j        , 0.58444087+0.j        ,\n",
       "       0.72999885+0.j        , 0.98781601+0.j        ,\n",
       "       0.8244802 +0.j        , 0.93102012+0.j        ,\n",
       "       0.88576197+0.01505463j, 0.88576197-0.01505463j])"
      ]
     },
     "execution_count": 8,
     "metadata": {},
     "output_type": "execute_result"
    }
   ],
   "source": [
    "eigenvalues_left"
   ]
  },
  {
   "cell_type": "code",
   "execution_count": 9,
   "id": "a36d3192-9699-4214-94cc-4a727132b264",
   "metadata": {},
   "outputs": [
    {
     "data": {
      "text/html": [
       "<div>\n",
       "<style scoped>\n",
       "    .dataframe tbody tr th:only-of-type {\n",
       "        vertical-align: middle;\n",
       "    }\n",
       "\n",
       "    .dataframe tbody tr th {\n",
       "        vertical-align: top;\n",
       "    }\n",
       "\n",
       "    .dataframe thead th {\n",
       "        text-align: right;\n",
       "    }\n",
       "</style>\n",
       "<table border=\"1\" class=\"dataframe\">\n",
       "  <thead>\n",
       "    <tr style=\"text-align: right;\">\n",
       "      <th></th>\n",
       "      <th>0</th>\n",
       "      <th>1</th>\n",
       "      <th>2</th>\n",
       "      <th>3</th>\n",
       "      <th>4</th>\n",
       "      <th>5</th>\n",
       "      <th>6</th>\n",
       "      <th>7</th>\n",
       "    </tr>\n",
       "  </thead>\n",
       "  <tbody>\n",
       "    <tr>\n",
       "      <th>0</th>\n",
       "      <td>0.0+0.0j</td>\n",
       "      <td>0.000049+0.000000j</td>\n",
       "      <td>-0.006952+0.000000j</td>\n",
       "      <td>-0.035749+0.000000j</td>\n",
       "      <td>0.063117+0.000000j</td>\n",
       "      <td>-0.067658+0.000000j</td>\n",
       "      <td>-0.146145-0.112194j</td>\n",
       "      <td>-0.146145+0.112194j</td>\n",
       "    </tr>\n",
       "    <tr>\n",
       "      <th>1</th>\n",
       "      <td>0.0+0.0j</td>\n",
       "      <td>0.001909+0.000000j</td>\n",
       "      <td>-0.008211+0.000000j</td>\n",
       "      <td>-0.143127+0.000000j</td>\n",
       "      <td>0.077336+0.000000j</td>\n",
       "      <td>-0.354986+0.000000j</td>\n",
       "      <td>-0.180173+0.273146j</td>\n",
       "      <td>-0.180173-0.273146j</td>\n",
       "    </tr>\n",
       "    <tr>\n",
       "      <th>2</th>\n",
       "      <td>0.0+0.0j</td>\n",
       "      <td>-0.001931+0.000000j</td>\n",
       "      <td>0.134743+0.000000j</td>\n",
       "      <td>-0.293314+0.000000j</td>\n",
       "      <td>-0.578313+0.000000j</td>\n",
       "      <td>-0.129867+0.000000j</td>\n",
       "      <td>0.552712+0.000000j</td>\n",
       "      <td>0.552712-0.000000j</td>\n",
       "    </tr>\n",
       "    <tr>\n",
       "      <th>3</th>\n",
       "      <td>0.0+0.0j</td>\n",
       "      <td>-0.043713+0.000000j</td>\n",
       "      <td>-0.429839+0.000000j</td>\n",
       "      <td>-0.220958+0.000000j</td>\n",
       "      <td>0.644645+0.000000j</td>\n",
       "      <td>0.348954+0.000000j</td>\n",
       "      <td>0.172229-0.206578j</td>\n",
       "      <td>0.172229+0.206578j</td>\n",
       "    </tr>\n",
       "    <tr>\n",
       "      <th>4</th>\n",
       "      <td>0.0+0.0j</td>\n",
       "      <td>0.058065+0.000000j</td>\n",
       "      <td>0.729701+0.000000j</td>\n",
       "      <td>-0.112470+0.000000j</td>\n",
       "      <td>0.062099+0.000000j</td>\n",
       "      <td>0.365195+0.000000j</td>\n",
       "      <td>-0.256831-0.035768j</td>\n",
       "      <td>-0.256831+0.035768j</td>\n",
       "    </tr>\n",
       "    <tr>\n",
       "      <th>5</th>\n",
       "      <td>0.0+0.0j</td>\n",
       "      <td>-0.446654+0.000000j</td>\n",
       "      <td>-0.477854+0.000000j</td>\n",
       "      <td>-0.095304+0.000000j</td>\n",
       "      <td>-0.421484+0.000000j</td>\n",
       "      <td>0.420901+0.000000j</td>\n",
       "      <td>-0.480951+0.058850j</td>\n",
       "      <td>-0.480951-0.058850j</td>\n",
       "    </tr>\n",
       "    <tr>\n",
       "      <th>6</th>\n",
       "      <td>0.0+0.0j</td>\n",
       "      <td>0.808474+0.000000j</td>\n",
       "      <td>-0.102504+0.000000j</td>\n",
       "      <td>-0.014595+0.000000j</td>\n",
       "      <td>-0.075417+0.000000j</td>\n",
       "      <td>0.064945+0.000000j</td>\n",
       "      <td>-0.076100+0.010576j</td>\n",
       "      <td>-0.076100-0.010576j</td>\n",
       "    </tr>\n",
       "    <tr>\n",
       "      <th>7</th>\n",
       "      <td>1.0+0.0j</td>\n",
       "      <td>-0.376271+0.000000j</td>\n",
       "      <td>0.160160+0.000000j</td>\n",
       "      <td>0.906331+0.000000j</td>\n",
       "      <td>0.229846+0.000000j</td>\n",
       "      <td>-0.645004+0.000000j</td>\n",
       "      <td>0.416063+0.011190j</td>\n",
       "      <td>0.416063-0.011190j</td>\n",
       "    </tr>\n",
       "  </tbody>\n",
       "</table>\n",
       "</div>"
      ],
      "text/plain": [
       "          0                   1                   2                   3  \\\n",
       "0  0.0+0.0j  0.000049+0.000000j -0.006952+0.000000j -0.035749+0.000000j   \n",
       "1  0.0+0.0j  0.001909+0.000000j -0.008211+0.000000j -0.143127+0.000000j   \n",
       "2  0.0+0.0j -0.001931+0.000000j  0.134743+0.000000j -0.293314+0.000000j   \n",
       "3  0.0+0.0j -0.043713+0.000000j -0.429839+0.000000j -0.220958+0.000000j   \n",
       "4  0.0+0.0j  0.058065+0.000000j  0.729701+0.000000j -0.112470+0.000000j   \n",
       "5  0.0+0.0j -0.446654+0.000000j -0.477854+0.000000j -0.095304+0.000000j   \n",
       "6  0.0+0.0j  0.808474+0.000000j -0.102504+0.000000j -0.014595+0.000000j   \n",
       "7  1.0+0.0j -0.376271+0.000000j  0.160160+0.000000j  0.906331+0.000000j   \n",
       "\n",
       "                    4                   5                   6  \\\n",
       "0  0.063117+0.000000j -0.067658+0.000000j -0.146145-0.112194j   \n",
       "1  0.077336+0.000000j -0.354986+0.000000j -0.180173+0.273146j   \n",
       "2 -0.578313+0.000000j -0.129867+0.000000j  0.552712+0.000000j   \n",
       "3  0.644645+0.000000j  0.348954+0.000000j  0.172229-0.206578j   \n",
       "4  0.062099+0.000000j  0.365195+0.000000j -0.256831-0.035768j   \n",
       "5 -0.421484+0.000000j  0.420901+0.000000j -0.480951+0.058850j   \n",
       "6 -0.075417+0.000000j  0.064945+0.000000j -0.076100+0.010576j   \n",
       "7  0.229846+0.000000j -0.645004+0.000000j  0.416063+0.011190j   \n",
       "\n",
       "                    7  \n",
       "0 -0.146145+0.112194j  \n",
       "1 -0.180173-0.273146j  \n",
       "2  0.552712-0.000000j  \n",
       "3  0.172229+0.206578j  \n",
       "4 -0.256831+0.035768j  \n",
       "5 -0.480951-0.058850j  \n",
       "6 -0.076100-0.010576j  \n",
       "7  0.416063-0.011190j  "
      ]
     },
     "execution_count": 9,
     "metadata": {},
     "output_type": "execute_result"
    }
   ],
   "source": [
    "eigenvectors = pd.DataFrame(eigenvectors_left)\n",
    "eigenvectors"
   ]
  },
  {
   "cell_type": "markdown",
   "id": "41728d5b-3483-4091-99c7-05dc30bf183a",
   "metadata": {},
   "source": [
    "Thus, the eigenvector that corresponds to the eigenvalues $\\lambda = 1$ is the first column of the above matrix, i.e.:"
   ]
  },
  {
   "cell_type": "code",
   "execution_count": 11,
   "id": "909b5d84-a41b-4000-898b-f3d37fd1aaee",
   "metadata": {},
   "outputs": [
    {
     "data": {
      "text/plain": [
       "['0%', '0%', '0%', '0%', '0%', '0%', '0%', '100%']"
      ]
     },
     "execution_count": 11,
     "metadata": {},
     "output_type": "execute_result"
    }
   ],
   "source": [
    "v_T = [str(int(v.real)*100) + '%' for v in eigenvectors_left.T[0]]\n",
    "v_T"
   ]
  },
  {
   "cell_type": "markdown",
   "id": "9100c9e6-0a7e-446d-b7f7-6ecf4de651cb",
   "metadata": {},
   "source": [
    "Confirmation $v^T\\times \\Phi = v^T$"
   ]
  },
  {
   "cell_type": "code",
   "execution_count": 13,
   "id": "3e6ce22c-b0ff-45c2-a98b-c4a9a3dd84cb",
   "metadata": {},
   "outputs": [
    {
     "data": {
      "text/plain": [
       "['0%', '0%', '0%', '0%', '0%', '0%', '0%', '100%']"
      ]
     },
     "execution_count": 13,
     "metadata": {},
     "output_type": "execute_result"
    }
   ],
   "source": [
    "v_x_Phi = [str(int(v.real)*100) + '%' for v in eigenvectors[0].values.dot(phi.values)]\n",
    "v_x_Phi"
   ]
  },
  {
   "cell_type": "code",
   "execution_count": 14,
   "id": "e33762bc-360b-46a6-8153-2c2ceebd9a89",
   "metadata": {},
   "outputs": [],
   "source": [
    "assert v_T == v_x_Phi, \"You didn't get the right left eigenvector for the eigenvalue 1\""
   ]
  }
 ],
 "metadata": {
  "kernelspec": {
   "display_name": "Python 3 (ipykernel)",
   "language": "python",
   "name": "python3"
  },
  "language_info": {
   "codemirror_mode": {
    "name": "ipython",
    "version": 3
   },
   "file_extension": ".py",
   "mimetype": "text/x-python",
   "name": "python",
   "nbconvert_exporter": "python",
   "pygments_lexer": "ipython3",
   "version": "3.12.7"
  }
 },
 "nbformat": 4,
 "nbformat_minor": 5
}
