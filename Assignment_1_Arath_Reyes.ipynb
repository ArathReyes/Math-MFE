{
 "cells": [
  {
   "cell_type": "code",
   "execution_count": 1,
   "id": "709a3702-6f74-4a45-b08d-ed2055482748",
   "metadata": {},
   "outputs": [],
   "source": [
    "import numpy as np\n",
    "from sklearn.decomposition import PCA"
   ]
  },
  {
   "cell_type": "code",
   "execution_count": 2,
   "id": "1ebde343-3b63-45a3-927b-badd946557a8",
   "metadata": {},
   "outputs": [],
   "source": [
    "def solve_pca(X):\n",
    "    # Fit PCA to the data\n",
    "    pca = PCA(n_components=1)  # We want a 1-dimensional subspace\n",
    "    pca.fit(X.T)\n",
    "\n",
    "    optimal_x = pca.components_[0]  # The first principal component\n",
    "\n",
    "    # Transform the data to the 1-dimensional subspace\n",
    "    c = pca.transform(X.T).flatten()\n",
    "\n",
    "    # Reconstruct the data\n",
    "    X_reconstructed = np.outer(optimal_x, c).T\n",
    "\n",
    "    # Compute the error\n",
    "    reconstruction_error = np.sqrt(np.sum((X.T - X_reconstructed) ** 2) / X.T.shape[0])\n",
    "\n",
    "    # Compute the variance explained by the first principal component\n",
    "    variance_explained = pca.explained_variance_ratio_[0]\n",
    "\n",
    "    results = {\n",
    "        \"optimal_x\": optimal_x,\n",
    "        \"reconstruction_error\": reconstruction_error,\n",
    "        \"variance_explained\": variance_explained\n",
    "    }\n",
    "    return results"
   ]
  },
  {
   "cell_type": "code",
   "execution_count": 3,
   "id": "768dd5eb-6cde-4cb6-813f-b8f98b46b038",
   "metadata": {},
   "outputs": [],
   "source": [
    "# Define the dataset X\n",
    "X = np.array([\n",
    "    [-0.066, -0.124, 0.259, 0.289, -0.318, -0.015, -0.060, 0.140, 0.203, 0.249, -0.229, 0.174, 0.149, -0.343, -0.308],\n",
    "    [-0.204, -0.079, 0.565, 0.607, -0.425, -0.135, 0.011, 0.411, 0.350, 0.535, -0.668, 0.128, 0.317, -0.543, -0.870]\n",
    "])"
   ]
  },
  {
   "cell_type": "code",
   "execution_count": 4,
   "id": "1c83f417-6e9b-4801-b546-033c541b35e9",
   "metadata": {},
   "outputs": [],
   "source": [
    "results = solve_pca(X)"
   ]
  },
  {
   "cell_type": "code",
   "execution_count": 5,
   "id": "4ec4e6dd-c2ed-409b-b159-6aa51e99c8ac",
   "metadata": {},
   "outputs": [
    {
     "name": "stdout",
     "output_type": "stream",
     "text": [
      "Optimal x (Principal Component): [0.41997158 0.90753726]\n",
      "\n",
      "Error: 0.062394\n",
      "\n",
      "Variance Explained by the First Component: 98.48 %\n"
     ]
    }
   ],
   "source": [
    "print(\"Optimal x (Principal Component):\", results[\"optimal_x\"])\n",
    "print(\"\\nError:\", round(results[\"reconstruction_error\"],6))\n",
    "print(\"\\nVariance Explained by the First Component:\", round(results[\"variance_explained\"]*100,2), \"%\")"
   ]
  }
 ],
 "metadata": {
  "kernelspec": {
   "display_name": "Python 3 (ipykernel)",
   "language": "python",
   "name": "python3"
  },
  "language_info": {
   "codemirror_mode": {
    "name": "ipython",
    "version": 3
   },
   "file_extension": ".py",
   "mimetype": "text/x-python",
   "name": "python",
   "nbconvert_exporter": "python",
   "pygments_lexer": "ipython3",
   "version": "3.12.7"
  }
 },
 "nbformat": 4,
 "nbformat_minor": 5
}
